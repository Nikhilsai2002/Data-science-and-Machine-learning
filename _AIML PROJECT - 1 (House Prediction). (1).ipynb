{
 "cells": [
  {
   "cell_type": "code",
   "execution_count": 1,
   "id": "25944927",
   "metadata": {},
   "outputs": [
    {
     "data": {
      "text/html": [
       "<div>\n",
       "<style scoped>\n",
       "    .dataframe tbody tr th:only-of-type {\n",
       "        vertical-align: middle;\n",
       "    }\n",
       "\n",
       "    .dataframe tbody tr th {\n",
       "        vertical-align: top;\n",
       "    }\n",
       "\n",
       "    .dataframe thead th {\n",
       "        text-align: right;\n",
       "    }\n",
       "</style>\n",
       "<table border=\"1\" class=\"dataframe\">\n",
       "  <thead>\n",
       "    <tr style=\"text-align: right;\">\n",
       "      <th></th>\n",
       "      <th>Area(Sq.mts)</th>\n",
       "      <th>Roomcount</th>\n",
       "      <th>Buildingage</th>\n",
       "      <th>Price(USD)</th>\n",
       "    </tr>\n",
       "  </thead>\n",
       "  <tbody>\n",
       "    <tr>\n",
       "      <th>0</th>\n",
       "      <td>180</td>\n",
       "      <td>5</td>\n",
       "      <td>10</td>\n",
       "      <td>510000</td>\n",
       "    </tr>\n",
       "    <tr>\n",
       "      <th>1</th>\n",
       "      <td>225</td>\n",
       "      <td>4</td>\n",
       "      <td>18</td>\n",
       "      <td>508000</td>\n",
       "    </tr>\n",
       "    <tr>\n",
       "      <th>2</th>\n",
       "      <td>260</td>\n",
       "      <td>3</td>\n",
       "      <td>2</td>\n",
       "      <td>548000</td>\n",
       "    </tr>\n",
       "    <tr>\n",
       "      <th>3</th>\n",
       "      <td>320</td>\n",
       "      <td>6</td>\n",
       "      <td>10</td>\n",
       "      <td>650000</td>\n",
       "    </tr>\n",
       "    <tr>\n",
       "      <th>4</th>\n",
       "      <td>335</td>\n",
       "      <td>4</td>\n",
       "      <td>9</td>\n",
       "      <td>658000</td>\n",
       "    </tr>\n",
       "    <tr>\n",
       "      <th>5</th>\n",
       "      <td>345</td>\n",
       "      <td>5</td>\n",
       "      <td>14</td>\n",
       "      <td>632000</td>\n",
       "    </tr>\n",
       "    <tr>\n",
       "      <th>6</th>\n",
       "      <td>355</td>\n",
       "      <td>3</td>\n",
       "      <td>0</td>\n",
       "      <td>680000</td>\n",
       "    </tr>\n",
       "    <tr>\n",
       "      <th>7</th>\n",
       "      <td>400</td>\n",
       "      <td>4</td>\n",
       "      <td>10</td>\n",
       "      <td>725000</td>\n",
       "    </tr>\n",
       "  </tbody>\n",
       "</table>\n",
       "</div>"
      ],
      "text/plain": [
       "   Area(Sq.mts)  Roomcount  Buildingage  Price(USD)\n",
       "0           180          5           10      510000\n",
       "1           225          4           18      508000\n",
       "2           260          3            2      548000\n",
       "3           320          6           10      650000\n",
       "4           335          4            9      658000\n",
       "5           345          5           14      632000\n",
       "6           355          3            0      680000\n",
       "7           400          4           10      725000"
      ]
     },
     "execution_count": 1,
     "metadata": {},
     "output_type": "execute_result"
    }
   ],
   "source": [
    "import pandas as pd\n",
    "import seaborn as sns\n",
    "from sklearn import linear_model\n",
    "import warnings\n",
    "warnings.simplefilter(action = 'ignore', category = FutureWarning)\n",
    "\n",
    "data={'Area(Sq.mts)':[180,225,260,320,335,345,355,400],\n",
    "    \"Roomcount\":[5,4,3,6,4,5,3,4],\n",
    "     'Buildingage':  [10,18,2,10,9,14,0,10],\n",
    "     \"Price(USD)\":[510000,508000,548000,650000,658000,632000,680000,725000]}\n",
    "df=pd.DataFrame(data)\n",
    "df  "
   ]
  },
  {
   "cell_type": "code",
   "execution_count": 2,
   "id": "6eee3883",
   "metadata": {},
   "outputs": [
    {
     "data": {
      "text/html": [
       "<div>\n",
       "<style scoped>\n",
       "    .dataframe tbody tr th:only-of-type {\n",
       "        vertical-align: middle;\n",
       "    }\n",
       "\n",
       "    .dataframe tbody tr th {\n",
       "        vertical-align: top;\n",
       "    }\n",
       "\n",
       "    .dataframe thead th {\n",
       "        text-align: right;\n",
       "    }\n",
       "</style>\n",
       "<table border=\"1\" class=\"dataframe\">\n",
       "  <thead>\n",
       "    <tr style=\"text-align: right;\">\n",
       "      <th></th>\n",
       "      <th>Area(Sq.mts)</th>\n",
       "      <th>Roomcount</th>\n",
       "      <th>Buildingage</th>\n",
       "    </tr>\n",
       "  </thead>\n",
       "  <tbody>\n",
       "    <tr>\n",
       "      <th>0</th>\n",
       "      <td>180</td>\n",
       "      <td>5</td>\n",
       "      <td>10</td>\n",
       "    </tr>\n",
       "    <tr>\n",
       "      <th>1</th>\n",
       "      <td>225</td>\n",
       "      <td>4</td>\n",
       "      <td>18</td>\n",
       "    </tr>\n",
       "    <tr>\n",
       "      <th>2</th>\n",
       "      <td>260</td>\n",
       "      <td>3</td>\n",
       "      <td>2</td>\n",
       "    </tr>\n",
       "    <tr>\n",
       "      <th>3</th>\n",
       "      <td>320</td>\n",
       "      <td>6</td>\n",
       "      <td>10</td>\n",
       "    </tr>\n",
       "    <tr>\n",
       "      <th>4</th>\n",
       "      <td>335</td>\n",
       "      <td>4</td>\n",
       "      <td>9</td>\n",
       "    </tr>\n",
       "    <tr>\n",
       "      <th>5</th>\n",
       "      <td>345</td>\n",
       "      <td>5</td>\n",
       "      <td>14</td>\n",
       "    </tr>\n",
       "    <tr>\n",
       "      <th>6</th>\n",
       "      <td>355</td>\n",
       "      <td>3</td>\n",
       "      <td>0</td>\n",
       "    </tr>\n",
       "    <tr>\n",
       "      <th>7</th>\n",
       "      <td>400</td>\n",
       "      <td>4</td>\n",
       "      <td>10</td>\n",
       "    </tr>\n",
       "  </tbody>\n",
       "</table>\n",
       "</div>"
      ],
      "text/plain": [
       "   Area(Sq.mts)  Roomcount  Buildingage\n",
       "0           180          5           10\n",
       "1           225          4           18\n",
       "2           260          3            2\n",
       "3           320          6           10\n",
       "4           335          4            9\n",
       "5           345          5           14\n",
       "6           355          3            0\n",
       "7           400          4           10"
      ]
     },
     "execution_count": 2,
     "metadata": {},
     "output_type": "execute_result"
    }
   ],
   "source": [
    "df[['Area(Sq.mts)','Roomcount','Buildingage']]  #This is our following feature set."
   ]
  },
  {
   "cell_type": "code",
   "execution_count": 3,
   "id": "7b249df0",
   "metadata": {},
   "outputs": [
    {
     "data": {
      "text/html": [
       "<div>\n",
       "<style scoped>\n",
       "    .dataframe tbody tr th:only-of-type {\n",
       "        vertical-align: middle;\n",
       "    }\n",
       "\n",
       "    .dataframe tbody tr th {\n",
       "        vertical-align: top;\n",
       "    }\n",
       "\n",
       "    .dataframe thead th {\n",
       "        text-align: right;\n",
       "    }\n",
       "</style>\n",
       "<table border=\"1\" class=\"dataframe\">\n",
       "  <thead>\n",
       "    <tr style=\"text-align: right;\">\n",
       "      <th></th>\n",
       "      <th>Price(USD)</th>\n",
       "    </tr>\n",
       "  </thead>\n",
       "  <tbody>\n",
       "    <tr>\n",
       "      <th>0</th>\n",
       "      <td>510000</td>\n",
       "    </tr>\n",
       "    <tr>\n",
       "      <th>1</th>\n",
       "      <td>508000</td>\n",
       "    </tr>\n",
       "    <tr>\n",
       "      <th>2</th>\n",
       "      <td>548000</td>\n",
       "    </tr>\n",
       "    <tr>\n",
       "      <th>3</th>\n",
       "      <td>650000</td>\n",
       "    </tr>\n",
       "    <tr>\n",
       "      <th>4</th>\n",
       "      <td>658000</td>\n",
       "    </tr>\n",
       "    <tr>\n",
       "      <th>5</th>\n",
       "      <td>632000</td>\n",
       "    </tr>\n",
       "    <tr>\n",
       "      <th>6</th>\n",
       "      <td>680000</td>\n",
       "    </tr>\n",
       "    <tr>\n",
       "      <th>7</th>\n",
       "      <td>725000</td>\n",
       "    </tr>\n",
       "  </tbody>\n",
       "</table>\n",
       "</div>"
      ],
      "text/plain": [
       "   Price(USD)\n",
       "0      510000\n",
       "1      508000\n",
       "2      548000\n",
       "3      650000\n",
       "4      658000\n",
       "5      632000\n",
       "6      680000\n",
       "7      725000"
      ]
     },
     "execution_count": 3,
     "metadata": {},
     "output_type": "execute_result"
    }
   ],
   "source": [
    "df[['Price(USD)']]"
   ]
  },
  {
   "cell_type": "code",
   "execution_count": 4,
   "id": "cab3e7c5",
   "metadata": {},
   "outputs": [
    {
     "data": {
      "text/plain": [
       "LinearRegression()"
      ]
     },
     "execution_count": 4,
     "metadata": {},
     "output_type": "execute_result"
    }
   ],
   "source": [
    "\n",
    "reg= linear_model.LinearRegression()\n",
    "reg.fit(df[['Area(Sq.mts)','Roomcount','Buildingage']], df['Price(USD)'])"
   ]
  },
  {
   "cell_type": "code",
   "execution_count": 5,
   "id": "733b0b00",
   "metadata": {},
   "outputs": [
    {
     "data": {
      "text/plain": [
       "array([133991.26428785])"
      ]
     },
     "execution_count": 5,
     "metadata": {},
     "output_type": "execute_result"
    }
   ],
   "source": [
    " #lets predict a house with 230 sqmts, 4 rooms and 10 building age.\n",
    "reg.predict([[30,6,100]])"
   ]
  },
  {
   "cell_type": "code",
   "execution_count": 6,
   "id": "9a9cf99e",
   "metadata": {},
   "outputs": [
    {
     "data": {
      "text/plain": [
       "array([710391.42549704])"
      ]
     },
     "execution_count": 6,
     "metadata": {},
     "output_type": "execute_result"
    }
   ],
   "source": [
    "reg.predict([[400,4,10]])"
   ]
  },
  {
   "cell_type": "code",
   "execution_count": 40,
   "id": "7b840546",
   "metadata": {},
   "outputs": [
    {
     "data": {
      "text/plain": [
       "array([532578.31669148, 641084.9863157 , 703569.43954319, 719032.21579178])"
      ]
     },
     "execution_count": 40,
     "metadata": {},
     "output_type": "execute_result"
    }
   ],
   "source": [
    "reg.predict([[230,4,10],[342,3,8],[410,2,6],[400,5,12]])"
   ]
  },
  {
   "cell_type": "code",
   "execution_count": 41,
   "id": "429de1b3",
   "metadata": {},
   "outputs": [
    {
     "data": {
      "text/plain": [
       "array([493405.46548454])"
      ]
     },
     "execution_count": 41,
     "metadata": {},
     "output_type": "execute_result"
    }
   ],
   "source": [
    " reg.predict([[210,3,12]])"
   ]
  },
  {
   "cell_type": "code",
   "execution_count": 42,
   "id": "82532fac",
   "metadata": {},
   "outputs": [
    {
     "data": {
      "text/plain": [
       "array([510001.37515138])"
      ]
     },
     "execution_count": 42,
     "metadata": {},
     "output_type": "execute_result"
    }
   ],
   "source": [
    " reg.predict([[185,6,11]])"
   ]
  },
  {
   "cell_type": "code",
   "execution_count": 43,
   "id": "97053374",
   "metadata": {},
   "outputs": [
    {
     "data": {
      "text/plain": [
       "array([514646.75889983])"
      ]
     },
     "execution_count": 43,
     "metadata": {},
     "output_type": "execute_result"
    }
   ],
   "source": [
    " reg.predict([[200,5,10]])"
   ]
  },
  {
   "cell_type": "code",
   "execution_count": 44,
   "id": "ff00651b",
   "metadata": {},
   "outputs": [
    {
     "data": {
      "text/plain": [
       "array([532900.42083553])"
      ]
     },
     "execution_count": 44,
     "metadata": {},
     "output_type": "execute_result"
    }
   ],
   "source": [
    " reg.predict([[200,6,8]])"
   ]
  },
  {
   "cell_type": "code",
   "execution_count": 45,
   "id": "5ca35619",
   "metadata": {},
   "outputs": [
    {
     "data": {
      "text/plain": [
       "array([786268.34636786])"
      ]
     },
     "execution_count": 45,
     "metadata": {},
     "output_type": "execute_result"
    }
   ],
   "source": [
    "reg.predict([[400,10,12]])"
   ]
  },
  {
   "cell_type": "code",
   "execution_count": 46,
   "id": "b004aa8a",
   "metadata": {},
   "outputs": [
    {
     "data": {
      "text/plain": [
       "867345.139750109"
      ]
     },
     "execution_count": 46,
     "metadata": {},
     "output_type": "execute_result"
    }
   ],
   "source": [
    "a =  reg.intercept_          #Coeff of multiple linear regression formula.\n",
    "b1 = reg.coef_[0]            #y = a + b1x1 + b2x2 + b3x3 + ....\n",
    "b2 = reg.coef_[1]\n",
    "b3 = reg.coef_[2]\n",
    "\n",
    "x1 = 500\n",
    "x2 = 7\n",
    "x3 = 5\n",
    "y = a+b1*x1 + b2*x2 + b3*x3\n",
    "\n",
    "y"
   ]
  },
  {
   "cell_type": "code",
   "execution_count": 47,
   "id": "fa6451d3",
   "metadata": {},
   "outputs": [
    {
     "data": {
      "text/plain": [
       "array([862843.50133146])"
      ]
     },
     "execution_count": 47,
     "metadata": {},
     "output_type": "execute_result"
    }
   ],
   "source": [
    "reg.predict([[200,30,5]])"
   ]
  },
  {
   "cell_type": "code",
   "execution_count": 48,
   "id": "3d088cd0",
   "metadata": {},
   "outputs": [
    {
     "data": {
      "text/plain": [
       "array([947964.74571182])"
      ]
     },
     "execution_count": 48,
     "metadata": {},
     "output_type": "execute_result"
    }
   ],
   "source": [
    "reg.predict([[123,45,20]])"
   ]
  },
  {
   "cell_type": "code",
   "execution_count": 49,
   "id": "aef2f607",
   "metadata": {},
   "outputs": [
    {
     "data": {
      "text/plain": [
       "array([2771093.60859887])"
      ]
     },
     "execution_count": 49,
     "metadata": {},
     "output_type": "execute_result"
    }
   ],
   "source": [
    "reg.predict([[236,170,10]])"
   ]
  },
  {
   "cell_type": "code",
   "execution_count": 50,
   "id": "f6b306ce",
   "metadata": {},
   "outputs": [
    {
     "data": {
      "text/plain": [
       "array([867345.13975011])"
      ]
     },
     "execution_count": 50,
     "metadata": {},
     "output_type": "execute_result"
    }
   ],
   "source": [
    "reg.predict([[500,7,5]])"
   ]
  },
  {
   "cell_type": "code",
   "execution_count": 51,
   "id": "15155dcb",
   "metadata": {},
   "outputs": [
    {
     "data": {
      "text/plain": [
       "array([590428.19133145])"
      ]
     },
     "execution_count": 51,
     "metadata": {},
     "output_type": "execute_result"
    }
   ],
   "source": [
    "reg.predict([[255,6,8]])"
   ]
  },
  {
   "cell_type": "code",
   "execution_count": 52,
   "id": "8fa776af",
   "metadata": {},
   "outputs": [
    {
     "data": {
      "application/javascript": [
       "\n",
       "        if (window._pyforest_update_imports_cell) { window._pyforest_update_imports_cell('import matplotlib.pyplot as plt'); }\n",
       "    "
      ],
      "text/plain": [
       "<IPython.core.display.Javascript object>"
      ]
     },
     "metadata": {},
     "output_type": "display_data"
    },
    {
     "data": {
      "image/png": "[encoded data removed]",
      "text/plain": [
       "<Figure size 432x288 with 1 Axes>"
      ]
     },
     "metadata": {
      "needs_background": "light"
     },
     "output_type": "display_data"
    }
   ],
   "source": [
    "sns.distplot(data['Price(USD)'], kde=False)\n",
    "plt.show()"
   ]
  },
  {
   "cell_type": "code",
   "execution_count": null,
   "id": "2466ea14",
   "metadata": {},
   "outputs": [],
   "source": [
    "sns.distplot(data['Price(USD)'], kde=False)\n",
    "plt.show()"
   ]
  }
 ],
 "metadata": {
  "kernelspec": {
   "display_name": "Python 3",
   "language": "python",
   "name": "python3"
  },
  "language_info": {
   "codemirror_mode": {
    "name": "ipython",
    "version": 3
   },
   "file_extension": ".py",
   "mimetype": "text/x-python",
   "name": "python",
   "nbconvert_exporter": "python",
   "pygments_lexer": "ipython3",
   "version": "3.8.8"
  }
 },
 "nbformat": 4,
 "nbformat_minor": 5
}
